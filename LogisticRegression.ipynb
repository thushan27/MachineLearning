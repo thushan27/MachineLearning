{
 "cells": [
  {
   "cell_type": "code",
   "execution_count": 1,
   "metadata": {},
   "outputs": [
    {
     "name": "stderr",
     "output_type": "stream",
     "text": [
      "//anaconda3/lib/python3.7/site-packages/sklearn/linear_model/logistic.py:432: FutureWarning: Default solver will be changed to 'lbfgs' in 0.22. Specify a solver to silence this warning.\n",
      "  FutureWarning)\n"
     ]
    },
    {
     "name": "stdout",
     "output_type": "stream",
     "text": [
      "R2_train score:  0.8927890118275468\n",
      "R2_test score:  0.8937444363518653\n",
      "\n",
      "\n",
      "              precision    recall  f1-score   support\n",
      "\n",
      "          no       0.90      0.99      0.94     10969\n",
      "         yes       0.60      0.17      0.26      1388\n",
      "\n",
      "    accuracy                           0.89     12357\n",
      "   macro avg       0.75      0.58      0.60     12357\n",
      "weighted avg       0.87      0.89      0.87     12357\n",
      "\n"
     ]
    }
   ],
   "source": [
    "\"\"\"\n",
    "Logistic Regression Model\n",
    "\n",
    "Use the Bank Marketing dataset and and perform the following activities:\n",
    "\n",
    "Consider the columns - duration, age, and campaign as predictors and the column “y”(states whether the client will subscribe \n",
    "a term deposit or not) as target  variable\n",
    "Use 70% of the data as training data set and 30% of data as testing data set.\n",
    "Build a logistic regression model.  \n",
    "Determine the classification accuracy rate of the model on both train and test set.\n",
    "\n",
    "\"\"\"\n",
    "\n",
    "import numpy as np\n",
    "import pandas as pd\n",
    "import matplotlib.pyplot as plt\n",
    "\n",
    "bank_marketing = pd.read_csv(\"/Users/thushan/Downloads/datasets/bank-additional-full.csv\")\n",
    "\n",
    "x = bank_marketing[[\"duration\",\"age\", \"campaign\"]]\n",
    "y = bank_marketing[\"y\"]\n",
    "\n",
    "from sklearn.model_selection import train_test_split\n",
    "\n",
    "x_train, x_test, y_train, y_test = train_test_split(x,y,train_size = 0.7, random_state = 0)\n",
    "\n",
    "from sklearn.linear_model import LogisticRegression\n",
    "\n",
    "model = LogisticRegression()\n",
    "\n",
    "model.fit(x_train,y_train)\n",
    "\n",
    "R2_train = model.score(x_train,y_train)\n",
    "R2_test = model.score(x_test,y_test)\n",
    "\n",
    "print(\"R2_train score: \", R2_train)\n",
    "print(\"R2_test score: \", R2_test)\n",
    "\n",
    "print(\"\\n\")\n",
    "\n",
    "from sklearn.metrics import classification_report\n",
    "test_predictions = model.predict(x_test)\n",
    "print(classification_report(y_test, test_predictions))"
   ]
  },
  {
   "cell_type": "code",
   "execution_count": null,
   "metadata": {},
   "outputs": [],
   "source": []
  }
 ],
 "metadata": {
  "kernelspec": {
   "display_name": "Python 3",
   "language": "python",
   "name": "python3"
  },
  "language_info": {
   "codemirror_mode": {
    "name": "ipython",
    "version": 3
   },
   "file_extension": ".py",
   "mimetype": "text/x-python",
   "name": "python",
   "nbconvert_exporter": "python",
   "pygments_lexer": "ipython3",
   "version": "3.7.3"
  }
 },
 "nbformat": 4,
 "nbformat_minor": 2
}
