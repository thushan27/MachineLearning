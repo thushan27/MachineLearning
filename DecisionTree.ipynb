{
 "cells": [
  {
   "cell_type": "code",
   "execution_count": 1,
   "metadata": {},
   "outputs": [
    {
     "name": "stdout",
     "output_type": "stream",
     "text": [
      "              precision    recall  f1-score   support\n",
      "\n",
      "          no       0.92      0.90      0.91      7319\n",
      "         yes       0.31      0.35      0.33       919\n",
      "\n",
      "    accuracy                           0.84      8238\n",
      "   macro avg       0.61      0.63      0.62      8238\n",
      "weighted avg       0.85      0.84      0.84      8238\n",
      "\n"
     ]
    }
   ],
   "source": [
    "\"\"\"\n",
    "Decision Tree Model\n",
    "\n",
    "For the Bank Marketing dataset available in UCI Machine Learning Repository, induct a decision tree to predict \n",
    "whether a client will subscribe to a term deposit or not (given in column 'y'). \n",
    "\n",
    "Consider the column 'y' as the target variable. From the remaining columns, consider all except 'duration' as predictors.\n",
    "\n",
    "Encode the predictors to convert them to numerical data.\n",
    "\n",
    "Split the data into train and test with a ratio of 80:20.\n",
    "\n",
    "Build a model using Decision Tree algorithm, to predict the target.\n",
    "\n",
    "Determine the accuracy, precision and recall for every class in the outcome.\n",
    "\n",
    "Modify the hyperparameters, and build a new model. Compare the performance of both models.\n",
    "\n",
    "\"\"\"\n",
    "\n",
    "import numpy as np\n",
    "import pandas as pd\n",
    "import matplotlib.pyplot as plt\n",
    "\n",
    "bank_marketing = pd.read_csv(\"/Users/thushan/Downloads/datasets/bank-additional-full.csv\")\n",
    "\n",
    "x =  bank_marketing.columns.drop([\"y\",\"duration\"])\n",
    "bank_marketing_encoded = pd.get_dummies(bank_marketing[x])\n",
    "\n",
    "y = bank_marketing[\"y\"]\n",
    "\n",
    "from sklearn.model_selection import train_test_split\n",
    "\n",
    "x_train, x_test, y_train, y_test = train_test_split(bank_marketing_encoded,y,train_size = 0.8, random_state = 0)\n",
    "\n",
    "from sklearn.tree import DecisionTreeClassifier\n",
    "\n",
    "model = DecisionTreeClassifier()\n",
    "\n",
    "model.fit(x_train,y_train)\n",
    "\n",
    "from sklearn.metrics import classification_report\n",
    "\n",
    "test_predictions = model.predict(x_test)\n",
    "print(classification_report(y_test, test_predictions))"
   ]
  },
  {
   "cell_type": "code",
   "execution_count": null,
   "metadata": {},
   "outputs": [],
   "source": []
  }
 ],
 "metadata": {
  "kernelspec": {
   "display_name": "Python 3",
   "language": "python",
   "name": "python3"
  },
  "language_info": {
   "codemirror_mode": {
    "name": "ipython",
    "version": 3
   },
   "file_extension": ".py",
   "mimetype": "text/x-python",
   "name": "python",
   "nbconvert_exporter": "python",
   "pygments_lexer": "ipython3",
   "version": "3.7.3"
  }
 },
 "nbformat": 4,
 "nbformat_minor": 2
}
