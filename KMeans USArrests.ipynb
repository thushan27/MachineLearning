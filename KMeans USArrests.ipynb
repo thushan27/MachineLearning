{
 "cells": [
  {
   "cell_type": "code",
   "execution_count": 1,
   "id": "338f55ea",
   "metadata": {},
   "outputs": [],
   "source": [
    "\"\"\"\n",
    "k-means clustering exercise\n",
    "\n",
    "Consider US Arrests datasets which contains statistics, in arrests per 100,000 residents for assault, murder, and rape \n",
    "in each of the 50 US states in 1973. Use k-means clustering to find clusters of the states committing similar crimes using \n",
    "'USArrests' dataset.\n",
    "\"\"\"\n",
    "\n",
    "import pandas as pd\n",
    "import matplotlib.pyplot as plt\n",
    "from sklearn.cluster import KMeans"
   ]
  },
  {
   "cell_type": "code",
   "execution_count": 2,
   "id": "aeae6c95",
   "metadata": {},
   "outputs": [
    {
     "data": {
      "text/html": [
       "<div>\n",
       "<style scoped>\n",
       "    .dataframe tbody tr th:only-of-type {\n",
       "        vertical-align: middle;\n",
       "    }\n",
       "\n",
       "    .dataframe tbody tr th {\n",
       "        vertical-align: top;\n",
       "    }\n",
       "\n",
       "    .dataframe thead th {\n",
       "        text-align: right;\n",
       "    }\n",
       "</style>\n",
       "<table border=\"1\" class=\"dataframe\">\n",
       "  <thead>\n",
       "    <tr style=\"text-align: right;\">\n",
       "      <th></th>\n",
       "      <th>Unnamed: 0</th>\n",
       "      <th>Murder</th>\n",
       "      <th>Assault</th>\n",
       "      <th>UrbanPop</th>\n",
       "      <th>Rape</th>\n",
       "    </tr>\n",
       "  </thead>\n",
       "  <tbody>\n",
       "    <tr>\n",
       "      <th>0</th>\n",
       "      <td>Alabama</td>\n",
       "      <td>13.2</td>\n",
       "      <td>236</td>\n",
       "      <td>58</td>\n",
       "      <td>21.2</td>\n",
       "    </tr>\n",
       "    <tr>\n",
       "      <th>1</th>\n",
       "      <td>Alaska</td>\n",
       "      <td>10.0</td>\n",
       "      <td>263</td>\n",
       "      <td>48</td>\n",
       "      <td>44.5</td>\n",
       "    </tr>\n",
       "    <tr>\n",
       "      <th>2</th>\n",
       "      <td>Arizona</td>\n",
       "      <td>8.1</td>\n",
       "      <td>294</td>\n",
       "      <td>80</td>\n",
       "      <td>31.0</td>\n",
       "    </tr>\n",
       "    <tr>\n",
       "      <th>3</th>\n",
       "      <td>Arkansas</td>\n",
       "      <td>8.8</td>\n",
       "      <td>190</td>\n",
       "      <td>50</td>\n",
       "      <td>19.5</td>\n",
       "    </tr>\n",
       "    <tr>\n",
       "      <th>4</th>\n",
       "      <td>California</td>\n",
       "      <td>9.0</td>\n",
       "      <td>276</td>\n",
       "      <td>91</td>\n",
       "      <td>40.6</td>\n",
       "    </tr>\n",
       "  </tbody>\n",
       "</table>\n",
       "</div>"
      ],
      "text/plain": [
       "   Unnamed: 0  Murder  Assault  UrbanPop  Rape\n",
       "0     Alabama    13.2      236        58  21.2\n",
       "1      Alaska    10.0      263        48  44.5\n",
       "2     Arizona     8.1      294        80  31.0\n",
       "3    Arkansas     8.8      190        50  19.5\n",
       "4  California     9.0      276        91  40.6"
      ]
     },
     "execution_count": 2,
     "metadata": {},
     "output_type": "execute_result"
    }
   ],
   "source": [
    "USarrests = pd.read_csv(\"Datasets/USArrests.csv\")\n",
    "\n",
    "USarrests.head()"
   ]
  },
  {
   "cell_type": "code",
   "execution_count": 3,
   "id": "168f2813",
   "metadata": {},
   "outputs": [],
   "source": [
    "# Take all the entries of columns 0, 1, 2, 3\n",
    "\n",
    "x = USarrests.iloc[:, [1,2,3,4]]"
   ]
  },
  {
   "cell_type": "code",
   "execution_count": 4,
   "id": "446632a6",
   "metadata": {},
   "outputs": [],
   "source": [
    "# Apply kmeans with 3 clusters\n",
    "\n",
    "kmeans = KMeans(n_clusters = 3, init = 'k-means++', max_iter = 300, n_init = 10, random_state = 0)"
   ]
  },
  {
   "cell_type": "code",
   "execution_count": 5,
   "id": "5c55e5c2",
   "metadata": {},
   "outputs": [
    {
     "data": {
      "text/plain": [
       "<matplotlib.collections.PathCollection at 0x7fe37d779d00>"
      ]
     },
     "execution_count": 5,
     "metadata": {},
     "output_type": "execute_result"
    },
    {
     "data": {
      "image/png": "[encoded data removed]",
      "text/plain": [
       "<Figure size 432x288 with 1 Axes>"
      ]
     },
     "metadata": {
      "needs_background": "light"
     },
     "output_type": "display_data"
    }
   ],
   "source": [
    "# Visualising the clusters - picking columns 0 against 1 of x where the label is either 0, 1 or 2.\n",
    "\n",
    "plt.scatter(x.iloc[:, 0], x.iloc[:, 1], c = kmeans.labels_)"
   ]
  },
  {
   "cell_type": "code",
   "execution_count": 6,
   "id": "d593ef6e",
   "metadata": {},
   "outputs": [
    {
     "data": {
      "image/png": "[encoded data removed]",
      "text/plain": [
       "<Figure size 432x288 with 1 Axes>"
      ]
     },
     "metadata": {
      "needs_background": "light"
     },
     "output_type": "display_data"
    }
   ],
   "source": [
    "\"\"\"\n",
    "Elbow method to determine k. \n",
    "\n",
    "kmeans.inertia_ gives how internally coherent the clusters are (i.e how compact they are - the lower the better). \n",
    "\n",
    "Running kmeans against 0-10 nodes and finding the lowest within cluster sum of squares.\n",
    "\"\"\"\n",
    "\n",
    "from sklearn import datasets\n",
    "from sklearn.cluster import KMeans\n",
    "import matplotlib.pyplot as plt\n",
    "\n",
    "x = x.iloc[:,[0,1]]\n",
    "\n",
    "wcss = []\n",
    "for i in range(1, 11):\n",
    "    kmeans = KMeans(n_clusters=i, init='k-means++', max_iter=300, n_init=10, random_state=0)\n",
    "    kmeans.fit(x)\n",
    "    wcss.append(kmeans.inertia_)\n",
    "\n",
    "plt.plot(range(1, 11), wcss)\n",
    "plt.title('Elbow Method')\n",
    "plt.xlabel('Number of clusters')\n",
    "plt.ylabel('WCSS')\n",
    "plt.show()\n",
    "\n",
    "# Optimal number is 3"
   ]
  },
  {
   "cell_type": "code",
   "execution_count": 7,
   "id": "88d9c5b4",
   "metadata": {},
   "outputs": [
    {
     "name": "stdout",
     "output_type": "stream",
     "text": [
      "For no of clusters = 2  The average silhouette_score is : 0.63071205666377\n",
      "For no of clusters = 3  The average silhouette_score is : 0.6132747140561386\n",
      "For no of clusters = 4  The average silhouette_score is : 0.6137070855684204\n",
      "For no of clusters = 5  The average silhouette_score is : 0.5853365628499101\n",
      "For no of clusters = 6  The average silhouette_score is : 0.598253703941821\n",
      "For no of clusters = 7  The average silhouette_score is : 0.6388356386211304\n",
      "For no of clusters = 8  The average silhouette_score is : 0.6718848667776669\n",
      "For no of clusters = 9  The average silhouette_score is : 0.667648734850023\n"
     ]
    },
    {
     "data": {
      "image/png": "[encoded data removed]",
      "text/plain": [
       "<Figure size 432x288 with 1 Axes>"
      ]
     },
     "metadata": {
      "needs_background": "light"
     },
     "output_type": "display_data"
    }
   ],
   "source": [
    "\"\"\"\n",
    "Silouette Width\n",
    "\"\"\"\n",
    "\n",
    "from sklearn import datasets\n",
    "from sklearn.cluster import KMeans\n",
    "from sklearn.metrics import silhouette_score \n",
    "import matplotlib.pyplot as plt\n",
    "\n",
    "x = x.iloc[:,[0,1]]\n",
    "\n",
    "result=[]\n",
    "no_of_clusters = range(2,10)\n",
    "\n",
    "for n_clusters in no_of_clusters: \n",
    "  \n",
    "    cluster = KMeans(n_clusters = n_clusters) \n",
    "    cluster_labels = cluster.fit_predict(x) \n",
    "  \n",
    "    # The silhouette_score gives the  \n",
    "    # average value for all the samples. \n",
    "    silhouette_avg = silhouette_score(x, cluster_labels) \n",
    "  \n",
    "    print(\"For no of clusters =\", n_clusters, \n",
    "          \" The average silhouette_score is :\", silhouette_avg) \n",
    "    result.append(silhouette_avg)\n",
    "\n",
    "\n",
    "plt.plot(no_of_clusters,result)\n",
    "plt.title('Average Silhouette Method')\n",
    "plt.xlabel('Number of clusters')\n",
    "plt.ylabel('Silhouette score')\n",
    "plt.show()\n",
    "\n",
    "# Highest quality of clustering between 7-9 clusters"
   ]
  }
 ],
 "metadata": {
  "kernelspec": {
   "display_name": "Python 3",
   "language": "python",
   "name": "python3"
  },
  "language_info": {
   "codemirror_mode": {
    "name": "ipython",
    "version": 3
   },
   "file_extension": ".py",
   "mimetype": "text/x-python",
   "name": "python",
   "nbconvert_exporter": "python",
   "pygments_lexer": "ipython3",
   "version": "3.8.8"
  }
 },
 "nbformat": 4,
 "nbformat_minor": 5
}
