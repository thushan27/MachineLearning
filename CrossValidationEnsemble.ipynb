{
 "cells": [
  {
   "cell_type": "code",
   "execution_count": 2,
   "metadata": {},
   "outputs": [
    {
     "name": "stdout",
     "output_type": "stream",
     "text": [
      "Random Forest test score:  0.9872495446265938\n",
      "AdaBoost test score:  0.9690346083788707\n",
      "Logistic regression test score: 0.9867549668874173\n",
      "Decision Tree test score:  0.9817850637522769\n"
     ]
    }
   ],
   "source": [
    "\"\"\"\n",
    "Cross validation and ensemble Exercises\n",
    "\n",
    "For the Banknote Authentication dataset available in UCI Machine Learning Repository, build models based on \n",
    "Random Forest Classifier and Adaptive Boosting Classifier, to predict whether a banknote will be classified as class 0 \n",
    "(i.e. fake) or class 1 (i.e. genuine) . Compare the performance of the models with the decision  tree model \n",
    "and the logistic regression model built as part of earlier exercises in the course.\n",
    "\n",
    "\"\"\"\n",
    "\n",
    "import numpy as np\n",
    "import pandas as pd\n",
    "import matplotlib.pyplot as plt\n",
    "\n",
    "bank_authentication = pd.read_csv(\"/Users/thushan/Downloads/datasets/data_banknote_authentication.csv\")\n",
    "\n",
    "from sklearn.model_selection import train_test_split\n",
    "\n",
    "x = bank_authentication[[\"variance\",\"skewness\",\"curtosis\",\"entropy\"]]\n",
    "y = bank_authentication[\"class\"]\n",
    "\n",
    "x_train, x_test, y_train, y_test = train_test_split(x,y,train_size = 0.6, random_state=0)\n",
    "\n",
    "from sklearn.ensemble import RandomForestClassifier\n",
    "\n",
    "randomforest_model = RandomForestClassifier(n_estimators = 100).fit(x_train,y_train)\n",
    "\n",
    "print(\"Random Forest test score: \", randomforest_model.score(x_test,y_test))\n",
    "\n",
    "from sklearn.ensemble import AdaBoostClassifier\n",
    "\n",
    "ada_model = AdaBoostClassifier(n_estimators = 10).fit(x_train,y_train)\n",
    "\n",
    "print(\"AdaBoost test score: \", ada_model.score(x_test,y_test))\n",
    "\n",
    "print(\"Logistic regression test score: 0.9867549668874173\")\n",
    "\n",
    "from sklearn.tree import DecisionTreeClassifier\n",
    "\n",
    "decision_model = DecisionTreeClassifier().fit(x_train,y_train)\n",
    "\n",
    "print(\"Decision Tree test score: \", decision_model.score(x_test,y_test))"
   ]
  },
  {
   "cell_type": "code",
   "execution_count": null,
   "metadata": {},
   "outputs": [],
   "source": []
  }
 ],
 "metadata": {
  "kernelspec": {
   "display_name": "Python 3",
   "language": "python",
   "name": "python3"
  },
  "language_info": {
   "codemirror_mode": {
    "name": "ipython",
    "version": 3
   },
   "file_extension": ".py",
   "mimetype": "text/x-python",
   "name": "python",
   "nbconvert_exporter": "python",
   "pygments_lexer": "ipython3",
   "version": "3.7.3"
  }
 },
 "nbformat": 4,
 "nbformat_minor": 2
}
