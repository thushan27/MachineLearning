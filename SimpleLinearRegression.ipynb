{
 "cells": [
  {
   "cell_type": "code",
   "execution_count": 1,
   "metadata": {},
   "outputs": [
    {
     "name": "stdout",
     "output_type": "stream",
     "text": [
      "Model coefficient:  [9.28941756]\n",
      "Model intercept:  -35.815661776322635\n",
      "RMSE_train:  6.567482862121252\n",
      "RMSE_test:  6.678886804496217\n",
      "R2_train:  0.4986956956861111\n",
      "R2_test:  0.4467086858567656\n",
      "6.678886804496219\n"
     ]
    }
   ],
   "source": [
    "\"\"\"\n",
    "Simple Linear Regression Model\n",
    "\n",
    "\n",
    "Use the boston housing data set to perform the following activities:\n",
    "\n",
    "1.    Consider the column, ‘RM’, as predictor, and ‘MEDV’ as the target variable\n",
    "\n",
    "2.    Visualize the association between the predictor and the target using scatter plot.\n",
    "\n",
    "3.    Split the data into train and test datasets, in the ratio of 67:33.\n",
    "\n",
    "4.    Build a Linear Regression model using training dataset, to predict the target variable.\n",
    "\n",
    "5.    Observe the coefficient and intercept values for the model.\n",
    "\n",
    "6.    Evaluate the model using mean squared error values and R-squared values on the training and the testing datasets.\n",
    "\n",
    "\"\"\"\n",
    "\n",
    "import numpy as np\n",
    "import pandas as pd\n",
    "import matplotlib.pyplot as plt\n",
    "\n",
    "\n",
    "boston_housing = pd.read_csv(\"/Users/thushan/Downloads/datasets/boston_housing.csv\")\n",
    "\n",
    "#plt.scatter(boston_housing[\"RM\"], boston_housing[\"MEDV\"], color = \"blue\", marker = \".\")\n",
    "\n",
    "from sklearn.model_selection import train_test_split\n",
    "\n",
    "x = boston_housing[[\"RM\"]]\n",
    "y = boston_housing[\"MEDV\"]\n",
    "\n",
    "x_train, x_test, y_train, y_test = train_test_split(x,y,train_size = 0.67, random_state = 0)\n",
    "\n",
    "from sklearn.linear_model import LinearRegression\n",
    "\n",
    "model = LinearRegression()\n",
    "model.fit(x_train, y_train)\n",
    "\n",
    "print(\"Model coefficient: \", model.coef_)\n",
    "print(\"Model intercept: \", model.intercept_)\n",
    "\n",
    "from sklearn.metrics import mean_squared_error\n",
    "\n",
    "train_predictions = model.predict(x_train)\n",
    "RMSE_train = mean_squared_error(y_train,train_predictions)**0.5\n",
    "\n",
    "test_predictions = model.predict(x_test)\n",
    "RMSE_test = mean_squared_error(y_test, test_predictions)**0.5\n",
    "\n",
    "print(\"RMSE_train: \",RMSE_train)\n",
    "print(\"RMSE_test: \",RMSE_test)\n",
    "\n",
    "R2_train = model.score(x_train,y_train)\n",
    "R2_test = model.score(x_test,y_test)\n",
    "\n",
    "print(\"R2_train: \", R2_train)\n",
    "print(\"R2_test: \", R2_test)\n",
    "\n",
    "SSR_test = sum((model.predict(x_test) - y_test.mean())**2)\n",
    "SST_test = sum((y_test - y_test.mean())**2)\n",
    "SSE_test = sum((y_test - model.predict(x_test))**2)\n",
    "myRMSE_test = np.sqrt(SSE_test/y_test.shape[0])\n",
    "print(myRMSE_test)\n",
    "#myR2_test = SSR_test/SST_test\n",
    "#print(myR2_test)"
   ]
  },
  {
   "cell_type": "code",
   "execution_count": null,
   "metadata": {},
   "outputs": [],
   "source": []
  }
 ],
 "metadata": {
  "kernelspec": {
   "display_name": "Python 3",
   "language": "python",
   "name": "python3"
  },
  "language_info": {
   "codemirror_mode": {
    "name": "ipython",
    "version": 3
   },
   "file_extension": ".py",
   "mimetype": "text/x-python",
   "name": "python",
   "nbconvert_exporter": "python",
   "pygments_lexer": "ipython3",
   "version": "3.7.3"
  }
 },
 "nbformat": 4,
 "nbformat_minor": 2
}
