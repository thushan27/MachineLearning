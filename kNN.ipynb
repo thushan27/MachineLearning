{
 "cells": [
  {
   "cell_type": "code",
   "execution_count": 1,
   "metadata": {},
   "outputs": [
    {
     "name": "stdout",
     "output_type": "stream",
     "text": [
      "              precision    recall  f1-score   support\n",
      "\n",
      "          no       0.91      0.95      0.93     14655\n",
      "         yes       0.40      0.27      0.33      1821\n",
      "\n",
      "    accuracy                           0.88     16476\n",
      "   macro avg       0.66      0.61      0.63     16476\n",
      "weighted avg       0.86      0.88      0.86     16476\n",
      "\n"
     ]
    }
   ],
   "source": [
    "\"\"\"\n",
    "Use the Bank Marketing dataset and and perform the following activities:\n",
    "\n",
    "Consider the columns - duration, and age as predictors and the column “y” (indicates whether the client will subscribe \n",
    "for a term deposit) as the target variable\n",
    "Use 60% of the data as training dataset and 40% of data as testing dataset.\n",
    "Build a kNN classification model.  \n",
    "Plot the classification accuracies on train and test data for different values of k.\n",
    "\n",
    "\"\"\"\n",
    "\n",
    "import numpy as np\n",
    "import pandas as pd\n",
    "import matplotlib.pyplot as plt\n",
    "\n",
    "bank_marketing = pd.read_csv(\"/Users/thushan/Downloads/datasets/bank-additional-full.csv\")\n",
    "\n",
    "from sklearn.preprocessing import MinMaxScaler\n",
    "\n",
    "scaler = MinMaxScaler()\n",
    "features_to_scale = [\"duration\",\"age\"]\n",
    "scaled_values = scaler.fit_transform(bank_marketing[features_to_scale])\n",
    "bank_marketing[\"norm_duration\"] = scaled_values[:,0]\n",
    "bank_marketing[\"norm_age\"] = scaled_values[:,1]\n",
    "\n",
    "from sklearn.model_selection import train_test_split\n",
    "\n",
    "x = bank_marketing[[\"norm_duration\",\"norm_age\"]]\n",
    "y = bank_marketing[\"y\"]\n",
    "\n",
    "x_train,x_test,y_train,y_test = train_test_split(x,y,train_size = 0.6, random_state = 0)\n",
    "\n",
    "from sklearn.neighbors import KNeighborsClassifier\n",
    "\n",
    "model = KNeighborsClassifier(n_neighbors = 3, metric = \"euclidean\")\n",
    "model.fit(x_train,y_train)\n",
    "\n",
    "#print(model.score(x_test,y_test))\n",
    "\n",
    "from sklearn.metrics import classification_report\n",
    "\n",
    "test_predictions = model.predict(x_test)\n",
    "print(classification_report(y_test, test_predictions))"
   ]
  },
  {
   "cell_type": "code",
   "execution_count": null,
   "metadata": {},
   "outputs": [],
   "source": []
  }
 ],
 "metadata": {
  "kernelspec": {
   "display_name": "Python 3",
   "language": "python",
   "name": "python3"
  },
  "language_info": {
   "codemirror_mode": {
    "name": "ipython",
    "version": 3
   },
   "file_extension": ".py",
   "mimetype": "text/x-python",
   "name": "python",
   "nbconvert_exporter": "python",
   "pygments_lexer": "ipython3",
   "version": "3.7.3"
  }
 },
 "nbformat": 4,
 "nbformat_minor": 2
}
